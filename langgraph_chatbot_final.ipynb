{
  "cells": [
    {
      "cell_type": "markdown",
      "metadata": {},
      "source": [
        "# \ud83e\udd16 LangGraph Chatbot POC - Production Ready\n\n",
        "This notebook demonstrates a production-ready chatbot using LangGraph with:\n\n",
        "## \ud83d\ude80 **Core Features:**\n",
        "- **Multi-Table Support**: Complex queries across related tables with automatic JOINs\n",
        "- **Follow-up Questions**: Maintains conversation context for natural interactions\n",
        "- **Real Database Integration**: Direct Snowflake connection with proper error handling\n",
        "- **Schema File Integration**: Loads table schemas from external file\n",
        "- **LLM-Powered Tools**: All components use OpenAI for intelligent processing\n\n",
        "## \ud83d\udccb **Workflow:**\n",
        "1. **Context Enhancement** - Handles follow-up questions\n",
        "2. **Intent Classification** - Determines query relevance\n",
        "3. **SQL Generation** - Converts natural language to Snowflake SQL\n",
        "4. **Query Execution** - Executes against real database\n",
        "5. **Response Formatting** - Converts results to natural language"
      ]
    },
    {
      "cell_type": "markdown",
      "metadata": {},
      "source": [
        "## 1. \ud83d\udce6 Dependencies and Environment Setup"
      ]
    },
    {
      "cell_type": "code",
      "execution_count": null,
      "metadata": {},
      "outputs": [],
      "source": [
        "# Install required packages\n",
        "# !pip install langgraph openai pandas python-dotenv snowflake-connector-python\n\n",
        "import os\n",
        "import json\n",
        "import pandas as pd\n",
        "from datetime import datetime, timedelta\n",
        "from typing import Dict, List, Any, TypedDict, Optional\n",
        "from dataclasses import dataclass\n\n",
        "# Load environment variables\n",
        "from dotenv import load_dotenv\n",
        "load_dotenv()\n\n",
        "# LangGraph imports\n",
        "from langgraph.graph import StateGraph, END\n",
        "from langgraph.graph.message import add_messages\n\n",
        "# OpenAI and Snowflake\n",
        "from openai import OpenAI\n",
        "import snowflake.connector\n",
        "from snowflake.connector import DictCursor\n\n",
        "print('\u2705 Dependencies loaded successfully!')"
      ]
    }
  ],
  "metadata": {
    "kernelspec": {
      "display_name": "Python 3",
      "language": "python",
      "name": "python3"
    },
    "language_info": {
      "codemirror_mode": {
        "name": "ipython",
        "version": 3
      },
      "file_extension": ".py",
      "name": "python",
      "nbconvert_exporter": "python",
      "pygments_lexer": "ipython3",
      "version": "3.8.0"
    }
  },
  "nbformat": 4,
  "nbformat_minor": 4
}